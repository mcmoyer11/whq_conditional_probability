{
 "cells": [
  {
   "cell_type": "code",
   "execution_count": 3,
   "metadata": {
    "collapsed": true
   },
   "outputs": [],
   "source": [
    "# Import Plotly and sign-in\n",
    "import pandas as pd\n",
    "import plotly as py\n",
    "py.tools.set_credentials_file(username='mcm11', api_key='PehH8sdK8FajACbr1VQc')\n",
    "\n",
    "{\n",
    "    \"username\": \"mcm11\",\n",
    "    \"stream_ids\": [\"ylosqsyet5\", \"h2ct8btk1s\", \"oxz4fm883b\"],\n",
    "    \"api_key\": \"PehH8sdK8FajACbr1VQc\"\n",
    "}\n",
    "\n",
    "import plotly.plotly as py\n",
    "import plotly.graph_objs as go\n",
    "import plotly.tools as plotly_tools\n",
    "from plotly.graph_objs import *\n",
    "from __future__ import division"
   ]
  },
  {
   "cell_type": "code",
   "execution_count": 7,
   "metadata": {
    "collapsed": true
   },
   "outputs": [],
   "source": [
    "d = pd.read_csv(\"answer.csv\")"
   ]
  },
  {
   "cell_type": "code",
   "execution_count": 43,
   "metadata": {
    "collapsed": true
   },
   "outputs": [],
   "source": [
    "# MODAL FIRST SUBSET\n",
    "d_mod = d.loc[d[\"modal\"].isin(['mod'])]\n",
    "d_nomod = d.loc[d[\"modal\"].isin(['nomod'])]\n",
    "\n",
    "# ANSWER FIRST SUBSET\n",
    "d_MO = d.loc[d[\"answer\"].isin(['MO'])]\n",
    "d_MS = d.loc[d[\"answer\"].isin(['MS'])]\n",
    "d_MA = d.loc[d[\"answer\"].isin(['MA'])]\n"
   ]
  },
  {
   "cell_type": "code",
   "execution_count": 9,
   "metadata": {
    "collapsed": true
   },
   "outputs": [],
   "source": [
    "# MODAL > WH\n",
    "# mod\n",
    "d_mod_who = d_mod.loc[d_mod[\"wh\"].isin(['who'])]\n",
    "d_mod_where = d_mod.loc[d_mod[\"wh\"].isin(['where'])]\n",
    "d_mod_how = d_mod.loc[d_mod[\"wh\"].isin(['how'])]\n",
    "# nomod\n",
    "d_nomod_who = d_nomod.loc[d_nomod[\"wh\"].isin(['who'])]\n",
    "d_nomod_where = d_nomod.loc[d_nomod[\"wh\"].isin(['where'])]\n",
    "d_nomod_how = d_nomod.loc[d_nomod[\"wh\"].isin(['how'])]\n",
    "\n",
    "# MODAL > WH > ANSWER\n",
    "# modal\n",
    "d_mod_who_MO = d_mod_who.loc[d_mod_who[\"answer\"].isin(['MO'])]\n",
    "d_mod_where_MO = d_mod_where.loc[d_mod_where[\"answer\"].isin(['MO'])]\n",
    "d_mod_how_MO = d_mod_how.loc[d_mod_how[\"answer\"].isin(['MO'])]\n",
    "\n",
    "d_mod_who_MS = d_mod_who.loc[d_mod_who[\"answer\"].isin(['MS'])]\n",
    "d_mod_where_MS = d_mod_where.loc[d_mod_where[\"answer\"].isin(['MS'])]\n",
    "d_mod_how_MS = d_mod_how.loc[d_mod_how[\"answer\"].isin(['MS'])]\n",
    "\n",
    "d_mod_who_MA = d_mod_who.loc[d_mod_who[\"answer\"].isin(['MA'])]\n",
    "d_mod_where_MA = d_mod_where.loc[d_mod_where[\"answer\"].isin(['MA'])]\n",
    "d_mod_how_MA = d_mod_how.loc[d_mod_how[\"answer\"].isin(['MA'])]\n",
    "\n",
    "# no modal\n",
    "d_nomod_who_MO = d_nomod_who.loc[d_nomod_who[\"answer\"].isin(['MO'])]\n",
    "d_nomod_where_MO = d_nomod_where.loc[d_nomod_where[\"answer\"].isin(['MO'])]\n",
    "d_nomod_how_MO = d_nomod_how.loc[d_nomod_how[\"answer\"].isin(['MO'])]\n",
    "\n",
    "d_nomod_who_MS = d_nomod_who.loc[d_nomod_who[\"answer\"].isin(['MS'])]\n",
    "d_nomod_where_MS = d_nomod_where.loc[d_nomod_where[\"answer\"].isin(['MS'])]\n",
    "d_nomod_how_MS = d_nomod_how.loc[d_nomod_how[\"answer\"].isin(['MS'])]\n",
    "\n",
    "d_nomod_who_MA = d_nomod_who.loc[d_nomod_who[\"answer\"].isin(['MA'])]\n",
    "d_nomod_where_MA = d_nomod_where.loc[d_nomod_where[\"answer\"].isin(['MA'])]\n",
    "d_nomod_how_MA = d_nomod_how.loc[d_nomod_how[\"answer\"].isin(['MA'])]\n",
    "\n",
    "\n"
   ]
  },
  {
   "cell_type": "code",
   "execution_count": 10,
   "metadata": {
    "collapsed": true
   },
   "outputs": [],
   "source": [
    "# MODAL > ANSWER\n",
    "#modal\n",
    "d_mod_MO = d_mod.loc[d_mod[\"answer\"].isin(['MO'])]\n",
    "d_mod_MS = d_mod.loc[d_mod[\"answer\"].isin(['MS'])]\n",
    "d_mod_MA = d_mod.loc[d_mod[\"answer\"].isin(['MA'])]\n",
    "#nomodal\n",
    "d_nomod_MO = d_nomod.loc[d_nomod[\"answer\"].isin(['MO'])]\n",
    "d_nomod_MS = d_nomod.loc[d_nomod[\"answer\"].isin(['MS'])]\n",
    "d_nomod_MA = d_nomod.loc[d_nomod[\"answer\"].isin(['MA'])]"
   ]
  },
  {
   "cell_type": "code",
   "execution_count": 24,
   "metadata": {
    "collapsed": true
   },
   "outputs": [],
   "source": [
    "#subset likert scores in MO answers\n",
    "d_mod_MO_0 = d_mod_MO.loc[d_mod_MO[\"likert\"] == 0]\n",
    "d_mod_MO_1 = d_mod_MO.loc[d_mod_MO[\"likert\"] == 1]\n",
    "d_mod_MO_2 = d_mod_MO.loc[d_mod_MO[\"likert\"] == 2]\n",
    "d_mod_MO_3 = d_mod_MO.loc[d_mod_MO[\"likert\"] == 3]\n",
    "d_mod_MO_4 = d_mod_MO.loc[d_mod_MO[\"likert\"] == 4]\n",
    "d_mod_MO_5 = d_mod_MO.loc[d_mod_MO[\"likert\"] == 5]\n",
    "\n",
    "d_nomod_MO_0 = d_nomod_MO.loc[d_nomod_MO[\"likert\"] == 0]\n",
    "d_nomod_MO_1 = d_nomod_MO.loc[d_nomod_MO[\"likert\"] == 1]\n",
    "d_nomod_MO_2 = d_nomod_MO.loc[d_nomod_MO[\"likert\"] == 2]\n",
    "d_nomod_MO_3 = d_nomod_MO.loc[d_nomod_MO[\"likert\"] == 3]\n",
    "d_nomod_MO_4 = d_nomod_MO.loc[d_nomod_MO[\"likert\"] == 4]\n",
    "d_nomod_MO_5 = d_nomod_MO.loc[d_nomod_MO[\"likert\"] == 5]"
   ]
  },
  {
   "cell_type": "code",
   "execution_count": 28,
   "metadata": {
    "collapsed": true
   },
   "outputs": [],
   "source": [
    "prop_mod_MO_0 = len(d_mod_MO_0)/len(d_mod_MO)\n",
    "prop_mod_MO_1 = len(d_mod_MO_1)/len(d_mod_MO)\n",
    "prop_mod_MO_2 = len(d_mod_MO_2)/len(d_mod_MO)\n",
    "prop_mod_MO_3 = len(d_mod_MO_3)/len(d_mod_MO)\n",
    "prop_mod_MO_4 = len(d_mod_MO_4)/len(d_mod_MO)\n",
    "prop_mod_MO_5 = len(d_mod_MO_5)/len(d_mod_MO)\n",
    "\n",
    "prop_nomod_MO_0 = len(d_nomod_MO_0)/len(d_nomod_MO)\n",
    "prop_nomod_MO_1 = len(d_nomod_MO_1)/len(d_nomod_MO)\n",
    "prop_nomod_MO_2 = len(d_nomod_MO_2)/len(d_nomod_MO)\n",
    "prop_nomod_MO_3 = len(d_nomod_MO_3)/len(d_nomod_MO)\n",
    "prop_nomod_MO_4 = len(d_nomod_MO_4)/len(d_nomod_MO)\n",
    "prop_nomod_MO_5 = len(d_nomod_MO_5)/len(d_nomod_MO)\n"
   ]
  },
  {
   "cell_type": "code",
   "execution_count": 62,
   "metadata": {},
   "outputs": [
    {
     "name": "stdout",
     "output_type": "stream",
     "text": [
      "High five! You successfully sent some data to your account on plotly. View your plot in your browser at https://plot.ly/~mcm11/0 or inside your plot.ly account where it is named 'stacked-bar'\n"
     ]
    },
    {
     "data": {
      "text/html": [
       "<iframe id=\"igraph\" scrolling=\"no\" style=\"border:none;\" seamless=\"seamless\" src=\"https://plot.ly/~mcm11/0.embed\" height=\"525px\" width=\"100%\"></iframe>"
      ],
      "text/plain": [
       "<chart_studio.tools.PlotlyDisplay object>"
      ]
     },
     "execution_count": 62,
     "metadata": {},
     "output_type": "execute_result"
    }
   ],
   "source": [
    "\n",
    "# Plot Likert on x-axis FOR MO ANSWERS\n",
    "\n",
    "trace1 = go.Bar(\n",
    "    x=['0', '1', '2', '3', '4', '5'],\n",
    "    y=[prop_mod_MO_0, prop_mod_MO_1, prop_mod_MO_2, prop_mod_MO_3, prop_mod_MO_4, prop_mod_MO_5],\n",
    "    name='modal',\n",
    "    marker=dict(\n",
    "        color='rgb(26, 118, 255)'\n",
    "    )\n",
    ")\n",
    "#  trace2 = go.Bar(\n",
    "#     x=['0', '1', '2', '3', '4', '5'],\n",
    "#     y=[prop_nomod_MO_0, prop_nomod_MO_1, prop_nomod_MO_2, prop_nomod_MO_3, prop_nomod_MO_4, prop_nomod_MO_5],\n",
    "#     name='nomodal',\n",
    "#     marker=dict(\n",
    "#        color='rgb(55, 83, 109)'\n",
    "#     )\n",
    "# )\n",
    "data = [trace1]\n",
    "layout = go.Layout(\n",
    "    title=go.layout.Title(\n",
    "        text='Mention-One Answers',\n",
    "        xref='paper',\n",
    "        x=0\n",
    "    ),\n",
    "    xaxis=dict(\n",
    "        title='Likert rating',\n",
    "        tickfont=dict(\n",
    "            size=14,\n",
    "            color='rgb(107, 107, 107)'\n",
    "        )\n",
    "    ),\n",
    "    yaxis=dict(\n",
    "        title='Proportion',\n",
    "        titlefont=dict(\n",
    "            size=16,\n",
    "            color='rgb(107, 107, 107)'\n",
    "        ),\n",
    "        tickfont=dict(\n",
    "            size=14,\n",
    "            color='rgb(107, 107, 107)'\n",
    "        )\n",
    "    ),\n",
    "    legend=dict(\n",
    "        x=0,\n",
    "        y=1.0,\n",
    "        bgcolor='rgba(255, 255, 255, 0)',\n",
    "        bordercolor='rgba(255, 255, 255, 0)'\n",
    "    ),\n",
    "    \n",
    "    barmode='stack'\n",
    ")\n",
    "\n",
    "\n",
    "fig = go.Figure(data=data, layout=layout)\n",
    "py.iplot(fig, filename='stacked-bar')"
   ]
  },
  {
   "cell_type": "code",
   "execution_count": 31,
   "metadata": {
    "collapsed": true
   },
   "outputs": [],
   "source": [
    "#subset likert scores in MO answers\n",
    "d_mod_MS_0 = d_mod_MS.loc[d_mod_MS[\"likert\"] == 0]\n",
    "d_mod_MS_1 = d_mod_MS.loc[d_mod_MS[\"likert\"] == 1]\n",
    "d_mod_MS_2 = d_mod_MS.loc[d_mod_MS[\"likert\"] == 2]\n",
    "d_mod_MS_3 = d_mod_MS.loc[d_mod_MS[\"likert\"] == 3]\n",
    "d_mod_MS_4 = d_mod_MS.loc[d_mod_MS[\"likert\"] == 4]\n",
    "d_mod_MS_5 = d_mod_MS.loc[d_mod_MS[\"likert\"] == 5]\n",
    "\n",
    "d_nomod_MS_0 = d_nomod_MS.loc[d_nomod_MS[\"likert\"] == 0]\n",
    "d_nomod_MS_1 = d_nomod_MS.loc[d_nomod_MS[\"likert\"] == 1]\n",
    "d_nomod_MS_2 = d_nomod_MS.loc[d_nomod_MS[\"likert\"] == 2]\n",
    "d_nomod_MS_3 = d_nomod_MS.loc[d_nomod_MS[\"likert\"] == 3]\n",
    "d_nomod_MS_4 = d_nomod_MS.loc[d_nomod_MS[\"likert\"] == 4]\n",
    "d_nomod_MS_5 = d_nomod_MS.loc[d_nomod_MS[\"likert\"] == 5]"
   ]
  },
  {
   "cell_type": "code",
   "execution_count": 32,
   "metadata": {
    "collapsed": true
   },
   "outputs": [],
   "source": [
    "prop_mod_MS_0 = len(d_mod_MS_0)/len(d_mod_MS)\n",
    "prop_mod_MS_1 = len(d_mod_MS_1)/len(d_mod_MS)\n",
    "prop_mod_MS_2 = len(d_mod_MS_2)/len(d_mod_MS)\n",
    "prop_mod_MS_3 = len(d_mod_MS_3)/len(d_mod_MS)\n",
    "prop_mod_MS_4 = len(d_mod_MS_4)/len(d_mod_MS)\n",
    "prop_mod_MS_5 = len(d_mod_MS_5)/len(d_mod_MS)\n",
    "\n",
    "prop_nomod_MS_0 = len(d_nomod_MS_0)/len(d_nomod_MS)\n",
    "prop_nomod_MS_1 = len(d_nomod_MS_1)/len(d_nomod_MS)\n",
    "prop_nomod_MS_2 = len(d_nomod_MS_2)/len(d_nomod_MS)\n",
    "prop_nomod_MS_3 = len(d_nomod_MS_3)/len(d_nomod_MS)\n",
    "prop_nomod_MS_4 = len(d_nomod_MS_4)/len(d_nomod_MS)\n",
    "prop_nomod_MS_5 = len(d_nomod_MS_5)/len(d_nomod_MS)"
   ]
  },
  {
   "cell_type": "code",
   "execution_count": 64,
   "metadata": {},
   "outputs": [
    {
     "name": "stdout",
     "output_type": "stream",
     "text": [
      "High five! You successfully sent some data to your account on plotly. View your plot in your browser at https://plot.ly/~mcm11/0 or inside your plot.ly account where it is named 'stacked-bar'\n"
     ]
    },
    {
     "data": {
      "text/html": [
       "<iframe id=\"igraph\" scrolling=\"no\" style=\"border:none;\" seamless=\"seamless\" src=\"https://plot.ly/~mcm11/0.embed\" height=\"525px\" width=\"100%\"></iframe>"
      ],
      "text/plain": [
       "<chart_studio.tools.PlotlyDisplay object>"
      ]
     },
     "execution_count": 64,
     "metadata": {},
     "output_type": "execute_result"
    }
   ],
   "source": [
    "\n",
    "# Plot Likert on x-axis FOR MS ANSWERS\n",
    "trace1 = go.Bar(\n",
    "    x=['0', '1', '2', '3', '4', '5'],\n",
    "    y=[prop_mod_MS_0, prop_mod_MS_1, prop_mod_MS_2, prop_mod_MS_3, prop_mod_MS_4, prop_mod_MS_5],\n",
    "    name='modal',\n",
    "    marker=dict(\n",
    "        color='rgb(26, 118, 255)'\n",
    "    )\n",
    ")\n",
    "# trace2 = go.Bar(\n",
    "#     x=['0', '1', '2', '3', '4', '5'],\n",
    "#     y=[prop_nomod_MS_0, prop_nomod_MS_1, prop_nomod_MS_2, prop_nomod_MS_3, prop_nomod_MS_4, prop_nomod_MS_5],\n",
    "#     name='nomodal',\n",
    "#     marker=dict(\n",
    "#         color='rgb(55, 83, 109)' \n",
    "#     )\n",
    "# )\n",
    "data = [trace1,]\n",
    "layout = go.Layout(\n",
    "    title=go.layout.Title(\n",
    "        text='Mention-Some Answers',\n",
    "        xref='paper',\n",
    "        x=0\n",
    "    ),\n",
    "    xaxis=dict(\n",
    "        title='Likert rating',\n",
    "        tickfont=dict(\n",
    "            size=14,\n",
    "            color='rgb(107, 107, 107)'\n",
    "        )\n",
    "    ),\n",
    "    yaxis=dict(\n",
    "        title='Proportion',\n",
    "        titlefont=dict(\n",
    "            size=16,\n",
    "            color='rgb(107, 107, 107)'\n",
    "        ),\n",
    "        tickfont=dict(\n",
    "            size=14,\n",
    "            color='rgb(107, 107, 107)'\n",
    "        )\n",
    "    ),\n",
    "    legend=dict(\n",
    "        x=0,\n",
    "        y=1.0,\n",
    "        bgcolor='rgba(255, 255, 255, 0)',\n",
    "        bordercolor='rgba(255, 255, 255, 0)'\n",
    "    ),\n",
    "    \n",
    "    barmode='stack'\n",
    ")\n",
    "\n",
    "\n",
    "fig = go.Figure(data=data, layout=layout)\n",
    "py.iplot(fig, filename='stacked-bar')"
   ]
  },
  {
   "cell_type": "code",
   "execution_count": 35,
   "metadata": {
    "collapsed": true
   },
   "outputs": [],
   "source": [
    "#subset likert scores in MA answers\n",
    "d_mod_MA_0 = d_mod_MA.loc[d_mod_MA[\"likert\"] == 0]\n",
    "d_mod_MA_1 = d_mod_MA.loc[d_mod_MA[\"likert\"] == 1]\n",
    "d_mod_MA_2 = d_mod_MA.loc[d_mod_MA[\"likert\"] == 2]\n",
    "d_mod_MA_3 = d_mod_MA.loc[d_mod_MA[\"likert\"] == 3]\n",
    "d_mod_MA_4 = d_mod_MA.loc[d_mod_MA[\"likert\"] == 4]\n",
    "d_mod_MA_5 = d_mod_MA.loc[d_mod_MA[\"likert\"] == 5]\n",
    "\n",
    "d_nomod_MA_0 = d_nomod_MA.loc[d_nomod_MA[\"likert\"] == 0]\n",
    "d_nomod_MA_1 = d_nomod_MA.loc[d_nomod_MA[\"likert\"] == 1]\n",
    "d_nomod_MA_2 = d_nomod_MA.loc[d_nomod_MA[\"likert\"] == 2]\n",
    "d_nomod_MA_3 = d_nomod_MA.loc[d_nomod_MA[\"likert\"] == 3]\n",
    "d_nomod_MA_4 = d_nomod_MA.loc[d_nomod_MA[\"likert\"] == 4]\n",
    "d_nomod_MA_5 = d_nomod_MA.loc[d_nomod_MA[\"likert\"] == 5]"
   ]
  },
  {
   "cell_type": "code",
   "execution_count": 36,
   "metadata": {
    "collapsed": true
   },
   "outputs": [],
   "source": [
    "prop_mod_MA_0 = len(d_mod_MA_0)/len(d_mod_MA)\n",
    "prop_mod_MA_1 = len(d_mod_MA_1)/len(d_mod_MA)\n",
    "prop_mod_MA_2 = len(d_mod_MA_2)/len(d_mod_MA)\n",
    "prop_mod_MA_3 = len(d_mod_MA_3)/len(d_mod_MA)\n",
    "prop_mod_MA_4 = len(d_mod_MA_4)/len(d_mod_MA)\n",
    "prop_mod_MA_5 = len(d_mod_MA_5)/len(d_mod_MA)\n",
    "\n",
    "prop_nomod_MA_0 = len(d_nomod_MA_0)/len(d_nomod_MA)\n",
    "prop_nomod_MA_1 = len(d_nomod_MA_1)/len(d_nomod_MA)\n",
    "prop_nomod_MA_2 = len(d_nomod_MA_2)/len(d_nomod_MA)\n",
    "prop_nomod_MA_3 = len(d_nomod_MA_3)/len(d_nomod_MA)\n",
    "prop_nomod_MA_4 = len(d_nomod_MA_4)/len(d_nomod_MA)\n",
    "prop_nomod_MA_5 = len(d_nomod_MA_5)/len(d_nomod_MA)"
   ]
  },
  {
   "cell_type": "code",
   "execution_count": null,
   "metadata": {
    "collapsed": true
   },
   "outputs": [],
   "source": []
  },
  {
   "cell_type": "code",
   "execution_count": 65,
   "metadata": {},
   "outputs": [
    {
     "name": "stdout",
     "output_type": "stream",
     "text": [
      "High five! You successfully sent some data to your account on plotly. View your plot in your browser at https://plot.ly/~mcm11/0 or inside your plot.ly account where it is named 'stacked-bar'\n"
     ]
    },
    {
     "data": {
      "text/html": [
       "<iframe id=\"igraph\" scrolling=\"no\" style=\"border:none;\" seamless=\"seamless\" src=\"https://plot.ly/~mcm11/0.embed\" height=\"525px\" width=\"100%\"></iframe>"
      ],
      "text/plain": [
       "<chart_studio.tools.PlotlyDisplay object>"
      ]
     },
     "execution_count": 65,
     "metadata": {},
     "output_type": "execute_result"
    }
   ],
   "source": [
    "# Plot Likert on x-axis FOR MA ANSWERS\n",
    "\n",
    "trace1 = go.Bar(\n",
    "    x=['0', '1', '2', '3', '4', '5'],\n",
    "    y=[prop_mod_MA_0, prop_mod_MA_1, prop_mod_MA_2, prop_mod_MA_3, prop_mod_MA_4, prop_mod_MA_5],\n",
    "    name='modal',\n",
    "    marker=dict(\n",
    "        color='rgb(26, 118, 255)'\n",
    "    )\n",
    ")\n",
    "# trace2 = go.Bar(\n",
    "#     x=['0', '1', '2', '3', '4', '5'],\n",
    "#     y=[prop_nomod_MA_0, prop_nomod_MA_1, prop_nomod_MA_2, prop_nomod_MA_3, prop_nomod_MA_4, prop_nomod_MA_5],\n",
    "#     name='nomodal',\n",
    "#     marker=dict(\n",
    "#         color='rgb(55, 83, 109)'\n",
    "#     )\n",
    "# )\n",
    "data = [trace1]\n",
    "layout = go.Layout(\n",
    "    title=go.layout.Title(\n",
    "        text='Mention-All Answers',\n",
    "        xref='paper',\n",
    "        x=0\n",
    "    ),\n",
    "    xaxis=dict(\n",
    "        title='Likert rating',\n",
    "        tickfont=dict(\n",
    "            size=14,\n",
    "            color='rgb(107, 107, 107)'\n",
    "        )\n",
    "    ),\n",
    "    yaxis=dict(\n",
    "        title='Proportion',\n",
    "        titlefont=dict(\n",
    "            size=16,\n",
    "            color='rgb(107, 107, 107)'\n",
    "        ),\n",
    "        tickfont=dict(\n",
    "            size=14,\n",
    "            color='rgb(107, 107, 107)'\n",
    "        )\n",
    "    ),\n",
    "    legend=dict(\n",
    "        x=0,\n",
    "        y=1.0,\n",
    "        bgcolor='rgba(255, 255, 255, 0)',\n",
    "        bordercolor='rgba(255, 255, 255, 0)'\n",
    "    ),\n",
    "    \n",
    "    barmode='stack'\n",
    ")\n",
    "\n",
    "\n",
    "fig = go.Figure(data=data, layout=layout)\n",
    "py.iplot(fig, filename='stacked-bar')"
   ]
  },
  {
   "cell_type": "code",
   "execution_count": 45,
   "metadata": {
    "collapsed": true
   },
   "outputs": [],
   "source": [
    "# Looking at task differences\n",
    "# By task subset\n",
    "likely = d.loc[d[\"task\"].isin([\"likely\"])]\n",
    "accept = d.loc[d[\"task\"].isin([\"accept\"])]\n",
    "\n",
    "likely_mod = likely.loc[likely[\"modal\"].isin(['mod'])]\n",
    "likely_nomod = likely.loc[likely[\"modal\"].isin(['nomod'])]\n",
    "\n",
    "accept_mod = accept.loc[accept[\"modal\"].isin(['mod'])]\n",
    "accept_nomod = accept.loc[accept[\"modal\"].isin(['nomod'])]"
   ]
  },
  {
   "cell_type": "code",
   "execution_count": 104,
   "metadata": {
    "collapsed": true
   },
   "outputs": [],
   "source": [
    "test = d.groupby(['task','answer', 'modal', 'likert']).agg({'likert': 'count'})\n",
    "test2 = df.groupby(['task','answer','modal']).agg({'modal': 'count'})\n"
   ]
  },
  {
   "cell_type": "code",
   "execution_count": 110,
   "metadata": {
    "collapsed": true
   },
   "outputs": [],
   "source": [
    "c =  d.groupby([\"task\",\"answer\",\"modal\",\"likert\"])[\"likert\"].count().rename(\"count_likert\")\n",
    "m =  d.groupby([\"task\",\"answer\",\"modal\"])[\"modal\"].count().rename(\"count_modal\")"
   ]
  },
  {
   "cell_type": "code",
   "execution_count": 112,
   "metadata": {},
   "outputs": [],
   "source": [
    "# cm = pd.concat([c,m],keys=['task','answer','modal'])"
   ]
  },
  {
   "cell_type": "code",
   "execution_count": null,
   "metadata": {
    "collapsed": true
   },
   "outputs": [],
   "source": []
  },
  {
   "cell_type": "code",
   "execution_count": 51,
   "metadata": {
    "collapsed": true
   },
   "outputs": [],
   "source": [
    "# MODAL > ANSWER\n",
    "#modal\n",
    "likely_mod_MO = likely_mod.loc[likely_mod[\"answer\"].isin(['MO'])]\n",
    "likely_mod_MS = likely_mod.loc[likely_mod[\"answer\"].isin(['MS'])]\n",
    "likely_mod_MA = likely_mod.loc[likely_mod[\"answer\"].isin(['MA'])]\n",
    "#nomodal\n",
    "likely_nomod_MO = likely_nomod.loc[likely_nomod[\"answer\"].isin(['MO'])]\n",
    "likely_nomod_MS = likely_nomod.loc[likely_nomod[\"answer\"].isin(['MS'])]\n",
    "likely_nomod_MA = likely_nomod.loc[likely_nomod[\"answer\"].isin(['MA'])]\n",
    "\n",
    "#subset likert scores in MO answers\n",
    "likely_mod_MO_0 = likely_mod_MO.loc[likely_mod_MO[\"likert\"] == 0]\n",
    "likely_mod_MO_1 = likely_mod_MO.loc[likely_mod_MO[\"likert\"] == 1]\n",
    "likely_mod_MO_2 = likely_mod_MO.loc[likely_mod_MO[\"likert\"] == 2]\n",
    "likely_mod_MO_3 = likely_mod_MO.loc[likely_mod_MO[\"likert\"] == 3]\n",
    "likely_mod_MO_4 = likely_mod_MO.loc[likely_mod_MO[\"likert\"] == 4]\n",
    "likely_mod_MO_5 = likely_mod_MO.loc[likely_mod_MO[\"likert\"] == 5]\n",
    "\n",
    "likely_nomod_MO_0 = likely_nomod_MO.loc[likely_nomod_MO[\"likert\"] == 0]\n",
    "likely_nomod_MO_1 = likely_nomod_MO.loc[likely_nomod_MO[\"likert\"] == 1]\n",
    "likely_nomod_MO_2 = likely_nomod_MO.loc[likely_nomod_MO[\"likert\"] == 2]\n",
    "likely_nomod_MO_3 = likely_nomod_MO.loc[likely_nomod_MO[\"likert\"] == 3]\n",
    "likely_nomod_MO_4 = likely_nomod_MO.loc[likely_nomod_MO[\"likert\"] == 4]\n",
    "likely_nomod_MO_5 = likely_nomod_MO.loc[likely_nomod_MO[\"likert\"] == 5]\n",
    "\n",
    "like_prop_mod_MO_0 = len(likely_mod_MO_0)/len(likely_mod_MO)\n",
    "like_prop_mod_MO_1 = len(likely_mod_MO_1)/len(likely_mod_MO)\n",
    "like_prop_mod_MO_2 = len(likely_mod_MO_2)/len(likely_mod_MO)\n",
    "like_prop_mod_MO_3 = len(likely_mod_MO_3)/len(likely_mod_MO)\n",
    "like_prop_mod_MO_4 = len(likely_mod_MO_4)/len(likely_mod_MO)\n",
    "like_prop_mod_MO_5 = len(likely_mod_MO_5)/len(likely_mod_MO)\n",
    "\n",
    "like_prop_nomod_MO_0 = len(likely_nomod_MO_0)/len(likely_nomod_MO)\n",
    "like_prop_nomod_MO_1 = len(likely_nomod_MO_1)/len(likely_nomod_MO)\n",
    "like_prop_nomod_MO_2 = len(likely_nomod_MO_2)/len(likely_nomod_MO)\n",
    "like_prop_nomod_MO_3 = len(likely_nomod_MO_3)/len(likely_nomod_MO)\n",
    "like_prop_nomod_MO_4 = len(likely_nomod_MO_4)/len(likely_nomod_MO)\n",
    "like_prop_nomod_MO_5 = len(likely_nomod_MO_5)/len(likely_nomod_MO)\n",
    "\n",
    "#subset likert scores in MS answers\n",
    "likely_mod_MS_0 = likely_mod_MS.loc[likely_mod_MS[\"likert\"] == 0]\n",
    "likely_mod_MS_1 = likely_mod_MS.loc[likely_mod_MS[\"likert\"] == 1]\n",
    "likely_mod_MS_2 = likely_mod_MS.loc[likely_mod_MS[\"likert\"] == 2]\n",
    "likely_mod_MS_3 = likely_mod_MS.loc[likely_mod_MS[\"likert\"] == 3]\n",
    "likely_mod_MS_4 = likely_mod_MS.loc[likely_mod_MS[\"likert\"] == 4]\n",
    "likely_mod_MS_5 = likely_mod_MS.loc[likely_mod_MS[\"likert\"] == 5]\n",
    "\n",
    "likely_nomod_MS_0 = likely_nomod_MS.loc[likely_nomod_MS[\"likert\"] == 0]\n",
    "likely_nomod_MS_1 = likely_nomod_MS.loc[likely_nomod_MS[\"likert\"] == 1]\n",
    "likely_nomod_MS_2 = likely_nomod_MS.loc[likely_nomod_MS[\"likert\"] == 2]\n",
    "likely_nomod_MS_3 = likely_nomod_MS.loc[likely_nomod_MS[\"likert\"] == 3]\n",
    "likely_nomod_MS_4 = likely_nomod_MS.loc[likely_nomod_MS[\"likert\"] == 4]\n",
    "likely_nomod_MS_5 = likely_nomod_MS.loc[likely_nomod_MS[\"likert\"] == 5]\n",
    "\n",
    "like_prop_mod_MS_0 = len(likely_mod_MS_0)/len(likely_mod_MS)\n",
    "like_prop_mod_MS_1 = len(likely_mod_MS_1)/len(likely_mod_MS)\n",
    "like_prop_mod_MS_2 = len(likely_mod_MS_2)/len(likely_mod_MS)\n",
    "like_prop_mod_MS_3 = len(likely_mod_MS_3)/len(likely_mod_MS)\n",
    "like_prop_mod_MS_4 = len(likely_mod_MS_4)/len(likely_mod_MS)\n",
    "like_prop_mod_MS_5 = len(likely_mod_MS_5)/len(likely_mod_MS)\n",
    "\n",
    "like_prop_nomod_MS_0 = len(likely_nomod_MS_0)/len(likely_nomod_MS)\n",
    "like_prop_nomod_MS_1 = len(likely_nomod_MS_1)/len(likely_nomod_MS)\n",
    "like_prop_nomod_MS_2 = len(likely_nomod_MS_2)/len(likely_nomod_MS)\n",
    "like_prop_nomod_MS_3 = len(likely_nomod_MS_3)/len(likely_nomod_MS)\n",
    "like_prop_nomod_MS_4 = len(likely_nomod_MS_4)/len(likely_nomod_MS)\n",
    "like_prop_nomod_MS_5 = len(likely_nomod_MS_5)/len(likely_nomod_MS)\n",
    "\n",
    "#subset likert scores in MA answers\n",
    "likely_mod_MA_0 = likely_mod_MA.loc[likely_mod_MA[\"likert\"] == 0]\n",
    "likely_mod_MA_1 = likely_mod_MA.loc[likely_mod_MA[\"likert\"] == 1]\n",
    "likely_mod_MA_2 = likely_mod_MA.loc[likely_mod_MA[\"likert\"] == 2]\n",
    "likely_mod_MA_3 = likely_mod_MA.loc[likely_mod_MA[\"likert\"] == 3]\n",
    "likely_mod_MA_4 = likely_mod_MA.loc[likely_mod_MA[\"likert\"] == 4]\n",
    "likely_mod_MA_5 = likely_mod_MA.loc[likely_mod_MA[\"likert\"] == 5]\n",
    "\n",
    "likely_nomod_MA_0 = likely_nomod_MA.loc[likely_nomod_MA[\"likert\"] == 0]\n",
    "likely_nomod_MA_1 = likely_nomod_MA.loc[likely_nomod_MA[\"likert\"] == 1]\n",
    "likely_nomod_MA_2 = likely_nomod_MA.loc[likely_nomod_MA[\"likert\"] == 2]\n",
    "likely_nomod_MA_3 = likely_nomod_MA.loc[likely_nomod_MA[\"likert\"] == 3]\n",
    "likely_nomod_MA_4 = likely_nomod_MA.loc[likely_nomod_MA[\"likert\"] == 4]\n",
    "likely_nomod_MA_5 = likely_nomod_MA.loc[likely_nomod_MA[\"likert\"] == 5]\n",
    "\n",
    "like_prop_mod_MA_0 = len(likely_mod_MA_0)/len(likely_mod_MA)\n",
    "like_prop_mod_MA_1 = len(likely_mod_MA_1)/len(likely_mod_MA)\n",
    "like_prop_mod_MA_2 = len(likely_mod_MA_2)/len(likely_mod_MA)\n",
    "like_prop_mod_MA_3 = len(likely_mod_MA_3)/len(likely_mod_MA)\n",
    "like_prop_mod_MA_4 = len(likely_mod_MA_4)/len(likely_mod_MA)\n",
    "like_prop_mod_MA_5 = len(likely_mod_MA_5)/len(likely_mod_MA)\n",
    "\n",
    "like_prop_nomod_MA_0 = len(likely_nomod_MA_0)/len(likely_nomod_MA)\n",
    "like_prop_nomod_MA_1 = len(likely_nomod_MA_1)/len(likely_nomod_MA)\n",
    "like_prop_nomod_MA_2 = len(likely_nomod_MA_2)/len(likely_nomod_MA)\n",
    "like_prop_nomod_MA_3 = len(likely_nomod_MA_3)/len(likely_nomod_MA)\n",
    "like_prop_nomod_MA_4 = len(likely_nomod_MA_4)/len(likely_nomod_MA)\n",
    "like_prop_nomod_MA_5 = len(likely_nomod_MA_5)/len(likely_nomod_MA)"
   ]
  },
  {
   "cell_type": "code",
   "execution_count": 72,
   "metadata": {},
   "outputs": [
    {
     "name": "stdout",
     "output_type": "stream",
     "text": [
      "High five! You successfully sent some data to your account on plotly. View your plot in your browser at https://plot.ly/~mcm11/0 or inside your plot.ly account where it is named 'stacked-bar'\n"
     ]
    },
    {
     "data": {
      "text/html": [
       "<iframe id=\"igraph\" scrolling=\"no\" style=\"border:none;\" seamless=\"seamless\" src=\"https://plot.ly/~mcm11/0.embed\" height=\"525px\" width=\"100%\"></iframe>"
      ],
      "text/plain": [
       "<chart_studio.tools.PlotlyDisplay object>"
      ]
     },
     "execution_count": 72,
     "metadata": {},
     "output_type": "execute_result"
    }
   ],
   "source": [
    "# Plot Likert on x-axis FOR MA ANSWERS in the LIKELY study\n",
    "\n",
    "# trace1 = go.Bar(\n",
    "#     x=['0', '1', '2', '3', '4', '5'],\n",
    "#     y=[like_prop_mod_MA_0, like_prop_mod_MA_1, like_prop_mod_MA_2, like_prop_mod_MA_3, like_prop_mod_MA_4, like_prop_mod_MA_5],\n",
    "#     name='modal',\n",
    "#     marker=dict(\n",
    "# #         color='rgb(26, 118, 255)'\n",
    "#         color='rgb(55, 83, 109)'\n",
    "#     )\n",
    "# )\n",
    "trace2 = go.Bar(\n",
    "    x=['0', '1', '2', '3', '4', '5'],\n",
    "    y=[like_prop_nomod_MA_0, like_prop_nomod_MA_1, like_prop_nomod_MA_2, like_prop_nomod_MA_3, like_prop_nomod_MA_4, like_prop_nomod_MA_5],\n",
    "    name='nomodal',\n",
    "    marker=dict(\n",
    "        color='rgb(26, 118, 255)'\n",
    "    )\n",
    ")\n",
    "data = [trace2]\n",
    "layout = go.Layout(\n",
    "    title=go.layout.Title(\n",
    "        text='Non-Modal Questions and MA Answers in Likely Task',\n",
    "        xref='paper',\n",
    "        x=0\n",
    "    ),\n",
    "    xaxis=dict(\n",
    "        title='Likert rating',\n",
    "        tickfont=dict(\n",
    "            size=14,\n",
    "            color='rgb(107, 107, 107)'\n",
    "        )\n",
    "    ),\n",
    "    yaxis=dict(\n",
    "        title='Proportion',\n",
    "        titlefont=dict(\n",
    "            size=16,\n",
    "            color='rgb(107, 107, 107)'\n",
    "        ),\n",
    "        tickfont=dict(\n",
    "            size=14,\n",
    "            color='rgb(107, 107, 107)'\n",
    "        )\n",
    "    ),\n",
    "    legend=dict(\n",
    "        x=0,\n",
    "        y=1.0,\n",
    "        bgcolor='rgba(255, 255, 255, 0)',\n",
    "        bordercolor='rgba(255, 255, 255, 0)'\n",
    "    ),\n",
    "    \n",
    "    barmode='stack'\n",
    ")\n",
    "\n",
    "\n",
    "fig = go.Figure(data=data, layout=layout)\n",
    "py.iplot(fig, filename='stacked-bar')"
   ]
  },
  {
   "cell_type": "code",
   "execution_count": 75,
   "metadata": {},
   "outputs": [
    {
     "name": "stdout",
     "output_type": "stream",
     "text": [
      "High five! You successfully sent some data to your account on plotly. View your plot in your browser at https://plot.ly/~mcm11/0 or inside your plot.ly account where it is named 'stacked-bar'\n"
     ]
    },
    {
     "data": {
      "text/html": [
       "<iframe id=\"igraph\" scrolling=\"no\" style=\"border:none;\" seamless=\"seamless\" src=\"https://plot.ly/~mcm11/0.embed\" height=\"525px\" width=\"100%\"></iframe>"
      ],
      "text/plain": [
       "<chart_studio.tools.PlotlyDisplay object>"
      ]
     },
     "execution_count": 75,
     "metadata": {},
     "output_type": "execute_result"
    }
   ],
   "source": [
    "# Plot Likert on x-axis FOR MS ANSWERS\n",
    "\n",
    "# trace1 = go.Bar(\n",
    "#     x=['0', '1', '2', '3', '4', '5'],\n",
    "#     y=[like_prop_mod_MS_0, like_prop_mod_MS_1, like_prop_mod_MS_2, like_prop_mod_MS_3, like_prop_mod_MS_4, like_prop_mod_MS_5],\n",
    "#     name='modal',\n",
    "#     marker=dict(\n",
    "#         color='rgb(55, 83, 109)'\n",
    "# #         color='rgb(26, 118, 255)'\n",
    "#     )\n",
    "# )\n",
    "trace2 = go.Bar(\n",
    "    x=['0', '1', '2', '3', '4', '5'],\n",
    "    y=[like_prop_nomod_MS_0, like_prop_nomod_MS_1, like_prop_nomod_MS_2, like_prop_nomod_MS_3, like_prop_nomod_MS_4, like_prop_nomod_MS_5],\n",
    "    name='nomodal',\n",
    "    marker=dict(\n",
    "        color='rgb(26, 118, 255)'\n",
    "    )\n",
    ")\n",
    "data = [trace2]\n",
    "layout = go.Layout(\n",
    "    title=go.layout.Title(\n",
    "        text='Non-Modal questions and MS Answers in Likely Task',\n",
    "        xref='paper',\n",
    "        x=0\n",
    "    ),\n",
    "    xaxis=dict(\n",
    "        title='Likert rating',\n",
    "        tickfont=dict(\n",
    "            size=14,\n",
    "            color='rgb(107, 107, 107)'\n",
    "        )\n",
    "    ),\n",
    "    yaxis=dict(\n",
    "        title='Proportion',\n",
    "        titlefont=dict(\n",
    "            size=16,\n",
    "            color='rgb(107, 107, 107)'\n",
    "        ),\n",
    "        tickfont=dict(\n",
    "            size=14,\n",
    "            color='rgb(107, 107, 107)'\n",
    "        )\n",
    "    ),\n",
    "    legend=dict(\n",
    "        x=0,\n",
    "        y=1.0,\n",
    "        bgcolor='rgba(255, 255, 255, 0)',\n",
    "        bordercolor='rgba(255, 255, 255, 0)'\n",
    "    ),\n",
    "    \n",
    "    barmode='stack'\n",
    ")\n",
    "\n",
    "\n",
    "fig = go.Figure(data=data, layout=layout)\n",
    "py.iplot(fig, filename='stacked-bar')"
   ]
  },
  {
   "cell_type": "code",
   "execution_count": 77,
   "metadata": {},
   "outputs": [
    {
     "name": "stdout",
     "output_type": "stream",
     "text": [
      "High five! You successfully sent some data to your account on plotly. View your plot in your browser at https://plot.ly/~mcm11/0 or inside your plot.ly account where it is named 'stacked-bar'\n"
     ]
    },
    {
     "data": {
      "text/html": [
       "<iframe id=\"igraph\" scrolling=\"no\" style=\"border:none;\" seamless=\"seamless\" src=\"https://plot.ly/~mcm11/0.embed\" height=\"525px\" width=\"100%\"></iframe>"
      ],
      "text/plain": [
       "<chart_studio.tools.PlotlyDisplay object>"
      ]
     },
     "execution_count": 77,
     "metadata": {},
     "output_type": "execute_result"
    }
   ],
   "source": [
    "# Plot Likert on x-axis FOR MO ANSWERS for Likely\n",
    "\n",
    "# trace1 = go.Bar(\n",
    "#     x=['0', '1', '2', '3', '4', '5'],\n",
    "#     y=[like_prop_mod_MO_0, like_prop_mod_MO_1, like_prop_mod_MO_2, like_prop_mod_MO_3, like_prop_mod_MO_4, like_prop_mod_MO_5],\n",
    "#     name='modal',\n",
    "#     marker=dict(\n",
    "#         color='rgb(55, 83, 109)'\n",
    "#     )\n",
    "# )\n",
    "trace2 = go.Bar(\n",
    "    x=['0', '1', '2', '3', '4', '5'],\n",
    "    y=[like_prop_nomod_MO_0, like_prop_nomod_MO_1, like_prop_nomod_MO_2, like_prop_nomod_MO_3, like_prop_nomod_MO_4, like_prop_nomod_MO_5],\n",
    "    name='nomodal',\n",
    "    marker=dict(\n",
    "        color='rgb(26, 118, 255)'\n",
    "    )\n",
    ")\n",
    "data = [trace2]\n",
    "layout = go.Layout(\n",
    "    title=go.layout.Title(\n",
    "        text='Non-Modal Questions and MO Answers in Likely Task',\n",
    "        xref='paper',\n",
    "        x=0\n",
    "    ),\n",
    "    xaxis=dict(\n",
    "        title='Likert rating',\n",
    "        tickfont=dict(\n",
    "            size=14,\n",
    "            color='rgb(107, 107, 107)'\n",
    "        )\n",
    "    ),\n",
    "    yaxis=dict(\n",
    "        title='Proportion',\n",
    "        titlefont=dict(\n",
    "            size=16,\n",
    "            color='rgb(107, 107, 107)'\n",
    "        ),\n",
    "        tickfont=dict(\n",
    "            size=14,\n",
    "            color='rgb(107, 107, 107)'\n",
    "        )\n",
    "    ),\n",
    "    legend=dict(\n",
    "        x=0,\n",
    "        y=1.0,\n",
    "        bgcolor='rgba(255, 255, 255, 0)',\n",
    "        bordercolor='rgba(255, 255, 255, 0)'\n",
    "    ),\n",
    "    \n",
    "    barmode='stack'\n",
    ")\n",
    "\n",
    "\n",
    "fig = go.Figure(data=data, layout=layout)\n",
    "py.iplot(fig, filename='stacked-bar')"
   ]
  },
  {
   "cell_type": "code",
   "execution_count": 57,
   "metadata": {
    "collapsed": true
   },
   "outputs": [],
   "source": [
    "# MODAL > ANSWER\n",
    "#modal\n",
    "accept_mod_MO = accept_mod.loc[accept_mod[\"answer\"].isin(['MO'])]\n",
    "accept_mod_MS = accept_mod.loc[accept_mod[\"answer\"].isin(['MS'])]\n",
    "accept_mod_MA = accept_mod.loc[accept_mod[\"answer\"].isin(['MA'])]\n",
    "#nomodal\n",
    "accept_nomod_MO = accept_nomod.loc[accept_nomod[\"answer\"].isin(['MO'])]\n",
    "accept_nomod_MS = accept_nomod.loc[accept_nomod[\"answer\"].isin(['MS'])]\n",
    "accept_nomod_MA = accept_nomod.loc[accept_nomod[\"answer\"].isin(['MA'])]\n",
    "\n",
    "#subset likert scores in MO answers\n",
    "accept_mod_MO_0 = accept_mod_MO.loc[accept_mod_MO[\"likert\"] == 0]\n",
    "accept_mod_MO_1 = accept_mod_MO.loc[accept_mod_MO[\"likert\"] == 1]\n",
    "accept_mod_MO_2 = accept_mod_MO.loc[accept_mod_MO[\"likert\"] == 2]\n",
    "accept_mod_MO_3 = accept_mod_MO.loc[accept_mod_MO[\"likert\"] == 3]\n",
    "accept_mod_MO_4 = accept_mod_MO.loc[accept_mod_MO[\"likert\"] == 4]\n",
    "accept_mod_MO_5 = accept_mod_MO.loc[accept_mod_MO[\"likert\"] == 5]\n",
    "\n",
    "accept_nomod_MO_0 = accept_nomod_MO.loc[accept_nomod_MO[\"likert\"] == 0]\n",
    "accept_nomod_MO_1 = accept_nomod_MO.loc[accept_nomod_MO[\"likert\"] == 1]\n",
    "accept_nomod_MO_2 = accept_nomod_MO.loc[accept_nomod_MO[\"likert\"] == 2]\n",
    "accept_nomod_MO_3 = accept_nomod_MO.loc[accept_nomod_MO[\"likert\"] == 3]\n",
    "accept_nomod_MO_4 = accept_nomod_MO.loc[accept_nomod_MO[\"likert\"] == 4]\n",
    "accept_nomod_MO_5 = accept_nomod_MO.loc[accept_nomod_MO[\"likert\"] == 5]\n",
    "\n",
    "acc_prop_mod_MO_0 = len(accept_mod_MO_0)/len(accept_mod_MO)\n",
    "acc_prop_mod_MO_1 = len(accept_mod_MO_1)/len(accept_mod_MO)\n",
    "acc_prop_mod_MO_2 = len(accept_mod_MO_2)/len(accept_mod_MO)\n",
    "acc_prop_mod_MO_3 = len(accept_mod_MO_3)/len(accept_mod_MO)\n",
    "acc_prop_mod_MO_4 = len(accept_mod_MO_4)/len(accept_mod_MO)\n",
    "acc_prop_mod_MO_5 = len(accept_mod_MO_5)/len(accept_mod_MO)\n",
    "\n",
    "acc_prop_nomod_MO_0 = len(accept_nomod_MO_0)/len(accept_nomod_MO)\n",
    "acc_prop_nomod_MO_1 = len(accept_nomod_MO_1)/len(accept_nomod_MO)\n",
    "acc_prop_nomod_MO_2 = len(accept_nomod_MO_2)/len(accept_nomod_MO)\n",
    "acc_prop_nomod_MO_3 = len(accept_nomod_MO_3)/len(accept_nomod_MO)\n",
    "acc_prop_nomod_MO_4 = len(accept_nomod_MO_4)/len(accept_nomod_MO)\n",
    "acc_prop_nomod_MO_5 = len(accept_nomod_MO_5)/len(accept_nomod_MO)\n",
    "\n",
    "#subset likert scores in MO answers\n",
    "accept_mod_MS_0 = accept_mod_MS.loc[accept_mod_MS[\"likert\"] == 0]\n",
    "accept_mod_MS_1 = accept_mod_MS.loc[accept_mod_MS[\"likert\"] == 1]\n",
    "accept_mod_MS_2 = accept_mod_MS.loc[accept_mod_MS[\"likert\"] == 2]\n",
    "accept_mod_MS_3 = accept_mod_MS.loc[accept_mod_MS[\"likert\"] == 3]\n",
    "accept_mod_MS_4 = accept_mod_MS.loc[accept_mod_MS[\"likert\"] == 4]\n",
    "accept_mod_MS_5 = accept_mod_MS.loc[accept_mod_MS[\"likert\"] == 5]\n",
    "\n",
    "accept_nomod_MS_0 = accept_nomod_MS.loc[accept_nomod_MS[\"likert\"] == 0]\n",
    "accept_nomod_MS_1 = accept_nomod_MS.loc[accept_nomod_MS[\"likert\"] == 1]\n",
    "accept_nomod_MS_2 = accept_nomod_MS.loc[accept_nomod_MS[\"likert\"] == 2]\n",
    "accept_nomod_MS_3 = accept_nomod_MS.loc[accept_nomod_MS[\"likert\"] == 3]\n",
    "accept_nomod_MS_4 = accept_nomod_MS.loc[accept_nomod_MS[\"likert\"] == 4]\n",
    "accept_nomod_MS_5 = accept_nomod_MS.loc[accept_nomod_MS[\"likert\"] == 5]\n",
    "\n",
    "acc_prop_mod_MS_0 = len(accept_mod_MS_0)/len(accept_mod_MS)\n",
    "acc_prop_mod_MS_1 = len(accept_mod_MS_1)/len(accept_mod_MS)\n",
    "acc_prop_mod_MS_2 = len(accept_mod_MS_2)/len(accept_mod_MS)\n",
    "acc_prop_mod_MS_3 = len(accept_mod_MS_3)/len(accept_mod_MS)\n",
    "acc_prop_mod_MS_4 = len(accept_mod_MS_4)/len(accept_mod_MS)\n",
    "acc_prop_mod_MS_5 = len(accept_mod_MS_5)/len(accept_mod_MS)\n",
    "\n",
    "acc_prop_nomod_MS_0 = len(accept_nomod_MS_0)/len(accept_nomod_MS)\n",
    "acc_prop_nomod_MS_1 = len(accept_nomod_MS_1)/len(accept_nomod_MS)\n",
    "acc_prop_nomod_MS_2 = len(accept_nomod_MS_2)/len(accept_nomod_MS)\n",
    "acc_prop_nomod_MS_3 = len(accept_nomod_MS_3)/len(accept_nomod_MS)\n",
    "acc_prop_nomod_MS_4 = len(accept_nomod_MS_4)/len(accept_nomod_MS)\n",
    "acc_prop_nomod_MS_5 = len(accept_nomod_MS_5)/len(accept_nomod_MS)\n",
    "\n",
    "#subset likert scores in MA answers\n",
    "accept_mod_MA_0 = accept_mod_MA.loc[accept_mod_MA[\"likert\"] == 0]\n",
    "accept_mod_MA_1 = accept_mod_MA.loc[accept_mod_MA[\"likert\"] == 1]\n",
    "accept_mod_MA_2 = accept_mod_MA.loc[accept_mod_MA[\"likert\"] == 2]\n",
    "accept_mod_MA_3 = accept_mod_MA.loc[accept_mod_MA[\"likert\"] == 3]\n",
    "accept_mod_MA_4 = accept_mod_MA.loc[accept_mod_MA[\"likert\"] == 4]\n",
    "accept_mod_MA_5 = accept_mod_MA.loc[accept_mod_MA[\"likert\"] == 5]\n",
    "\n",
    "accept_nomod_MA_0 = accept_nomod_MA.loc[accept_nomod_MA[\"likert\"] == 0]\n",
    "accept_nomod_MA_1 = accept_nomod_MA.loc[accept_nomod_MA[\"likert\"] == 1]\n",
    "accept_nomod_MA_2 = accept_nomod_MA.loc[accept_nomod_MA[\"likert\"] == 2]\n",
    "accept_nomod_MA_3 = accept_nomod_MA.loc[accept_nomod_MA[\"likert\"] == 3]\n",
    "accept_nomod_MA_4 = accept_nomod_MA.loc[accept_nomod_MA[\"likert\"] == 4]\n",
    "accept_nomod_MA_5 = accept_nomod_MA.loc[accept_nomod_MA[\"likert\"] == 5]\n",
    "\n",
    "acc_prop_mod_MA_0 = len(accept_mod_MA_0)/len(accept_mod_MA)\n",
    "acc_prop_mod_MA_1 = len(accept_mod_MA_1)/len(accept_mod_MA)\n",
    "acc_prop_mod_MA_2 = len(accept_mod_MA_2)/len(accept_mod_MA)\n",
    "acc_prop_mod_MA_3 = len(accept_mod_MA_3)/len(accept_mod_MA)\n",
    "acc_prop_mod_MA_4 = len(accept_mod_MA_4)/len(accept_mod_MA)\n",
    "acc_prop_mod_MA_5 = len(accept_mod_MA_5)/len(accept_mod_MA)\n",
    "\n",
    "acc_prop_nomod_MA_0 = len(accept_nomod_MA_0)/len(accept_nomod_MA)\n",
    "acc_prop_nomod_MA_1 = len(accept_nomod_MA_1)/len(accept_nomod_MA)\n",
    "acc_prop_nomod_MA_2 = len(accept_nomod_MA_2)/len(accept_nomod_MA)\n",
    "acc_prop_nomod_MA_3 = len(accept_nomod_MA_3)/len(accept_nomod_MA)\n",
    "acc_prop_nomod_MA_4 = len(accept_nomod_MA_4)/len(accept_nomod_MA)\n",
    "acc_prop_nomod_MA_5 = len(accept_nomod_MA_5)/len(accept_nomod_MA)"
   ]
  },
  {
   "cell_type": "code",
   "execution_count": 79,
   "metadata": {},
   "outputs": [
    {
     "name": "stdout",
     "output_type": "stream",
     "text": [
      "High five! You successfully sent some data to your account on plotly. View your plot in your browser at https://plot.ly/~mcm11/0 or inside your plot.ly account where it is named 'stacked-bar'\n"
     ]
    },
    {
     "data": {
      "text/html": [
       "<iframe id=\"igraph\" scrolling=\"no\" style=\"border:none;\" seamless=\"seamless\" src=\"https://plot.ly/~mcm11/0.embed\" height=\"525px\" width=\"100%\"></iframe>"
      ],
      "text/plain": [
       "<chart_studio.tools.PlotlyDisplay object>"
      ]
     },
     "execution_count": 79,
     "metadata": {},
     "output_type": "execute_result"
    }
   ],
   "source": [
    "# Plot Likert on x-axis FOR MA ANSWERS in the LIKELY study\n",
    "\n",
    "# trace1 = go.Bar(\n",
    "#     x=['0', '1', '2', '3', '4', '5'],\n",
    "#     y=[acc_prop_mod_MA_0, acc_prop_mod_MA_1, acc_prop_mod_MA_2, acc_prop_mod_MA_3, acc_prop_mod_MA_4, acc_prop_mod_MA_5],\n",
    "#     name='modal',\n",
    "#     marker=dict(\n",
    "#         color='rgb(55, 83, 109)'\n",
    "#     )\n",
    "# )\n",
    "trace2 = go.Bar(\n",
    "    x=['0', '1', '2', '3', '4', '5'],\n",
    "    y=[acc_prop_nomod_MA_0, acc_prop_nomod_MA_1, acc_prop_nomod_MA_2, acc_prop_nomod_MA_3, acc_prop_nomod_MA_4, acc_prop_nomod_MA_5],\n",
    "    name='nomodal',\n",
    "    marker=dict(\n",
    "        color='rgb(26, 118, 255)'\n",
    "    )\n",
    ")\n",
    "data = [trace2]\n",
    "layout = go.Layout(\n",
    "    title=go.layout.Title(\n",
    "        text='Non-Modal Questions and MA Answers in Accept Task',\n",
    "        xref='paper',\n",
    "        x=0\n",
    "    ),\n",
    "    xaxis=dict(\n",
    "        title='Likert rating',\n",
    "        tickfont=dict(\n",
    "            size=14,\n",
    "            color='rgb(107, 107, 107)'\n",
    "        )\n",
    "    ),\n",
    "    yaxis=dict(\n",
    "        title='Proportion',\n",
    "        titlefont=dict(\n",
    "            size=16,\n",
    "            color='rgb(107, 107, 107)'\n",
    "        ),\n",
    "        tickfont=dict(\n",
    "            size=14,\n",
    "            color='rgb(107, 107, 107)'\n",
    "        )\n",
    "    ),\n",
    "    legend=dict(\n",
    "        x=0,\n",
    "        y=1.0,\n",
    "        bgcolor='rgba(255, 255, 255, 0)',\n",
    "        bordercolor='rgba(255, 255, 255, 0)'\n",
    "    ),\n",
    "    \n",
    "    barmode='stack'\n",
    ")\n",
    "\n",
    "\n",
    "fig = go.Figure(data=data, layout=layout)\n",
    "py.iplot(fig, filename='stacked-bar')"
   ]
  },
  {
   "cell_type": "code",
   "execution_count": 81,
   "metadata": {},
   "outputs": [
    {
     "name": "stdout",
     "output_type": "stream",
     "text": [
      "High five! You successfully sent some data to your account on plotly. View your plot in your browser at https://plot.ly/~mcm11/0 or inside your plot.ly account where it is named 'stacked-bar'\n"
     ]
    },
    {
     "data": {
      "text/html": [
       "<iframe id=\"igraph\" scrolling=\"no\" style=\"border:none;\" seamless=\"seamless\" src=\"https://plot.ly/~mcm11/0.embed\" height=\"525px\" width=\"100%\"></iframe>"
      ],
      "text/plain": [
       "<chart_studio.tools.PlotlyDisplay object>"
      ]
     },
     "execution_count": 81,
     "metadata": {},
     "output_type": "execute_result"
    }
   ],
   "source": [
    "# Plot Likert on x-axis FOR MS ANSWERS\n",
    "\n",
    "# trace1 = go.Bar(\n",
    "#     x=['0', '1', '2', '3', '4', '5'],\n",
    "#     y=[acc_prop_mod_MS_0, acc_prop_mod_MS_1, acc_prop_mod_MS_2, acc_prop_mod_MS_3, acc_prop_mod_MS_4, acc_prop_mod_MS_5],\n",
    "#     name='modal',\n",
    "#     marker=dict(\n",
    "#         color='rgb(55, 83, 109)'\n",
    "#     )\n",
    "# )\n",
    "trace2 = go.Bar(\n",
    "    x=['0', '1', '2', '3', '4', '5'],\n",
    "    y=[acc_prop_nomod_MS_0, acc_prop_nomod_MS_1, acc_prop_nomod_MS_2, acc_prop_nomod_MS_3, acc_prop_nomod_MS_4, acc_prop_nomod_MS_5],\n",
    "    name='nomodal',\n",
    "    marker=dict(\n",
    "        color='rgb(26, 118, 255)'\n",
    "    )\n",
    ")\n",
    "data = [trace2]\n",
    "layout = go.Layout(\n",
    "    title=go.layout.Title(\n",
    "        text='Non-Modal Questions and MS Answers in Accept Task',\n",
    "        xref='paper',\n",
    "        x=0\n",
    "    ),\n",
    "    xaxis=dict(\n",
    "        title='Likert rating',\n",
    "        tickfont=dict(\n",
    "            size=14,\n",
    "            color='rgb(107, 107, 107)'\n",
    "        )\n",
    "    ),\n",
    "    yaxis=dict(\n",
    "        title='Proportion',\n",
    "        titlefont=dict(\n",
    "            size=16,\n",
    "            color='rgb(107, 107, 107)'\n",
    "        ),\n",
    "        tickfont=dict(\n",
    "            size=14,\n",
    "            color='rgb(107, 107, 107)'\n",
    "        )\n",
    "    ),\n",
    "    legend=dict(\n",
    "        x=0,\n",
    "        y=1.0,\n",
    "        bgcolor='rgba(255, 255, 255, 0)',\n",
    "        bordercolor='rgba(255, 255, 255, 0)'\n",
    "    ),\n",
    "    \n",
    "    barmode='stack'\n",
    ")\n",
    "\n",
    "\n",
    "fig = go.Figure(data=data, layout=layout)\n",
    "py.iplot(fig, filename='stacked-bar')"
   ]
  },
  {
   "cell_type": "code",
   "execution_count": 83,
   "metadata": {},
   "outputs": [
    {
     "name": "stdout",
     "output_type": "stream",
     "text": [
      "High five! You successfully sent some data to your account on plotly. View your plot in your browser at https://plot.ly/~mcm11/0 or inside your plot.ly account where it is named 'stacked-bar'\n"
     ]
    },
    {
     "data": {
      "text/html": [
       "<iframe id=\"igraph\" scrolling=\"no\" style=\"border:none;\" seamless=\"seamless\" src=\"https://plot.ly/~mcm11/0.embed\" height=\"525px\" width=\"100%\"></iframe>"
      ],
      "text/plain": [
       "<chart_studio.tools.PlotlyDisplay object>"
      ]
     },
     "execution_count": 83,
     "metadata": {},
     "output_type": "execute_result"
    }
   ],
   "source": [
    "# Plot Likert on x-axis FOR MO ANSWERS\n",
    "\n",
    "# trace1 = go.Bar(\n",
    "#     x=['0', '1', '2', '3', '4', '5'],\n",
    "#     y=[acc_prop_mod_MO_0, acc_prop_mod_MO_1, acc_prop_mod_MO_2, acc_prop_mod_MO_3, acc_prop_mod_MO_4, acc_prop_mod_MO_5],\n",
    "#     name='modal',\n",
    "#     marker=dict(\n",
    "#         color='rgb(55, 83, 109)'\n",
    "#     )\n",
    "# )\n",
    "trace2 = go.Bar(\n",
    "    x=['0', '1', '2', '3', '4', '5'],\n",
    "    y=[acc_prop_nomod_MO_0, acc_prop_nomod_MO_1, acc_prop_nomod_MO_2, acc_prop_nomod_MO_3, acc_prop_nomod_MO_4, acc_prop_nomod_MO_5],\n",
    "    name='nomodal',\n",
    "    marker=dict(\n",
    "        color='rgb(26, 118, 255)'\n",
    "    )\n",
    ")\n",
    "data = [trace2]\n",
    "layout = go.Layout(\n",
    "    title=go.layout.Title(\n",
    "        text='Non-Modal Questions and MO Answers in Accept Task',\n",
    "        xref='paper',\n",
    "        x=0\n",
    "    ),\n",
    "    xaxis=dict(\n",
    "        title='Likert rating',\n",
    "        tickfont=dict(\n",
    "            size=14,\n",
    "            color='rgb(107, 107, 107)'\n",
    "        )\n",
    "    ),\n",
    "    yaxis=dict(\n",
    "        title='Proportion',\n",
    "        titlefont=dict(\n",
    "            size=16,\n",
    "            color='rgb(107, 107, 107)'\n",
    "        ),\n",
    "        tickfont=dict(\n",
    "            size=14,\n",
    "            color='rgb(107, 107, 107)'\n",
    "        )\n",
    "    ),\n",
    "    legend=dict(\n",
    "        x=1.0,\n",
    "        y=1.0,\n",
    "        bgcolor='rgba(255, 255, 255, 0)',\n",
    "        bordercolor='rgba(255, 255, 255, 0)'\n",
    "    ),\n",
    "    \n",
    "    barmode='stack'\n",
    ")\n",
    "\n",
    "\n",
    "fig = go.Figure(data=data, layout=layout)\n",
    "py.iplot(fig, filename='stacked-bar')"
   ]
  },
  {
   "cell_type": "code",
   "execution_count": null,
   "metadata": {},
   "outputs": [],
   "source": [
    "\n"
   ]
  },
  {
   "cell_type": "code",
   "execution_count": null,
   "metadata": {
    "collapsed": true
   },
   "outputs": [],
   "source": []
  }
 ],
 "metadata": {
  "kernelspec": {
   "display_name": "Python 3",
   "language": "python",
   "name": "python3"
  },
  "language_info": {
   "codemirror_mode": {
    "name": "ipython",
    "version": 3
   },
   "file_extension": ".py",
   "mimetype": "text/x-python",
   "name": "python",
   "nbconvert_exporter": "python",
   "pygments_lexer": "ipython3",
   "version": "3.6.8"
  }
 },
 "nbformat": 4,
 "nbformat_minor": 2
}
