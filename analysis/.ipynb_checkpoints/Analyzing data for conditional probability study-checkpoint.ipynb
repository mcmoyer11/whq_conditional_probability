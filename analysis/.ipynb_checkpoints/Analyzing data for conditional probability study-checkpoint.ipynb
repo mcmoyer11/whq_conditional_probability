{
 "cells": [
  {
   "cell_type": "code",
   "execution_count": 155,
   "metadata": {
    "collapsed": true
   },
   "outputs": [],
   "source": [
    "import pandas as pd\n",
    "from pandas import DataFrame\n",
    "from sklearn.preprocessing import scale\n",
    "import numpy as np\n",
    "import seaborn as sns\n",
    "import matplotlib.pyplot as plt\n",
    "import matplotlib as mpl \n",
    "import os\n",
    "import csv"
   ]
  },
  {
   "cell_type": "code",
   "execution_count": 156,
   "metadata": {
    "collapsed": true
   },
   "outputs": [],
   "source": [
    "# Import in the data \n",
    "# Accept\n",
    "first_accept_wide = pd.read_csv(\"raw/answer_accept_first_raw.csv\")\n",
    "second_accept_wide = pd.read_csv(\"raw/answer_accept_second_raw.csv\")\n",
    "third_accept_wide = pd.read_csv(\"raw/answer_accept_third_raw.csv\")\n",
    "fourth_accept_wide = pd.read_csv(\"raw/answer_accept_fourth_raw.csv\")\n",
    "fifth_accept_wide = pd.read_csv(\"raw/answer_accept_fifth_raw.csv\")\n",
    "sixth_accept_wide = pd.read_csv(\"raw/answer_accept_sixth_raw.csv\")\n",
    "\n",
    "# lilely\n",
    "first_likely_wide = pd.read_csv(\"raw/answer_likely_first_raw.csv\")\n",
    "second_likely_wide = pd.read_csv(\"raw/answer_likely_second_raw.csv\")\n",
    "third_likely_wide = pd.read_csv(\"raw/answer_likely_third_raw.csv\")\n",
    "fourth_likely_wide = pd.read_csv(\"raw/answer_likely_fourth_raw.csv\")\n",
    "fifth_likely_wide = pd.read_csv(\"raw/answer_likely_fifth_raw.csv\")\n",
    "sixth_likely_wide = pd.read_csv(\"raw/answer_likely_sixth_raw.csv\")\n"
   ]
  },
  {
   "cell_type": "code",
   "execution_count": 157,
   "metadata": {},
   "outputs": [],
   "source": [
    "# Convert to long\n",
    "first_likely = pd.melt(first_likely_wide, id_vars='subject')\n",
    "second_likely = pd.melt(second_likely_wide, id_vars='subject')\n",
    "third_likely = pd.melt(third_likely_wide, id_vars='subject')\n",
    "fourth_likely = pd.melt(fourth_likely_wide, id_vars='subject')\n",
    "fifth_likely = pd.melt(fifth_likely_wide, id_vars='subject')\n",
    "sixth_likely = pd.melt(sixth_likely_wide, id_vars='subject')\n",
    "\n",
    "first_accept = pd.melt(first_accept_wide, id_vars='subject')\n",
    "second_accept = pd.melt(second_accept_wide, id_vars='subject')\n",
    "third_accept = pd.melt(third_accept_wide, id_vars='subject')\n",
    "fourth_accept = pd.melt(fourth_accept_wide, id_vars='subject')\n",
    "fifth_accept = pd.melt(fifth_accept_wide, id_vars='subject')\n",
    "sixth_accept = pd.melt(sixth_accept_wide, id_vars='subject')"
   ]
  },
  {
   "cell_type": "code",
   "execution_count": 158,
   "metadata": {
    "collapsed": true
   },
   "outputs": [],
   "source": [
    "together_likely = pd.concat([first_likely,second_likely,third_likely,fourth_likely,fifth_likely,sixth_likely])\n",
    "# together_likely.to_csv(\"together_likely.csv\",index=False)\n",
    "\n",
    "together_accept = pd.concat([first_accept,second_accept,third_accept,fourth_accept,fifth_accept,sixth_accept])\n"
   ]
  },
  {
   "cell_type": "code",
   "execution_count": 159,
   "metadata": {},
   "outputs": [],
   "source": [
    "together = pd.concat([together_likely,together_accept])\n",
    "# together.to_csv(\"together.csv\",index=False)"
   ]
  },
  {
   "cell_type": "code",
   "execution_count": 160,
   "metadata": {
    "collapsed": true
   },
   "outputs": [],
   "source": [
    "# Splitting by study type\n",
    "conn = together[together['variable'].str.contains(\"conn\")]\n",
    "vera = together[together['variable'].str.contains(\"vera\")]\n",
    "answer = together[together['variable'].str.contains(\"answer\")]"
   ]
  },
  {
   "cell_type": "code",
   "execution_count": 161,
   "metadata": {
    "collapsed": true
   },
   "outputs": [],
   "source": [
    "# Save the other studies to separate files \n",
    "vera.to_csv(\"vera_total_1.csv\",index=False)\n",
    "conn.to_csv(\"conn_total_1.csv\",index=False)\n",
    "answer.to_csv(\"answer_total_1.csv\",index=False)"
   ]
  },
  {
   "cell_type": "code",
   "execution_count": 162,
   "metadata": {},
   "outputs": [],
   "source": [
    "accept = answer[answer['variable'].str.contains(\"accept\")]\n",
    "likely = answer[answer['variable'].str.contains(\"likely\")]\n"
   ]
  },
  {
   "cell_type": "code",
   "execution_count": 130,
   "metadata": {},
   "outputs": [
    {
     "data": {
      "text/plain": [
       "2856"
      ]
     },
     "execution_count": 130,
     "metadata": {},
     "output_type": "execute_result"
    }
   ],
   "source": [
    "len(answer) # 2856\n"
   ]
  },
  {
   "cell_type": "code",
   "execution_count": 131,
   "metadata": {},
   "outputs": [
    {
     "data": {
      "text/plain": [
       "1488"
      ]
     },
     "execution_count": 131,
     "metadata": {},
     "output_type": "execute_result"
    }
   ],
   "source": [
    "len(likely) # 1488"
   ]
  },
  {
   "cell_type": "code",
   "execution_count": 132,
   "metadata": {},
   "outputs": [
    {
     "data": {
      "text/plain": [
       "1368"
      ]
     },
     "execution_count": 132,
     "metadata": {},
     "output_type": "execute_result"
    }
   ],
   "source": [
    "len(accept) #1368"
   ]
  },
  {
   "cell_type": "code",
   "execution_count": 163,
   "metadata": {},
   "outputs": [],
   "source": [
    "# This is an unnecessary step, but just in case \n",
    "# you want to import in another file\n",
    "# if you use the 'answer' object directly, it gives a \"SettingWithCopyWarning\"\n",
    "# \n",
    "d = pd.read_csv(\"answer_total_1.csv\")\n",
    "d.dropna(inplace = True)\n",
    "# d.head()"
   ]
  },
  {
   "cell_type": "code",
   "execution_count": 164,
   "metadata": {},
   "outputs": [],
   "source": [
    "new = d[\"variable\"].str.split('_', n=5, expand = True)"
   ]
  },
  {
   "cell_type": "code",
   "execution_count": 165,
   "metadata": {},
   "outputs": [
    {
     "data": {
      "text/html": [
       "<div>\n",
       "<style scoped>\n",
       "    .dataframe tbody tr th:only-of-type {\n",
       "        vertical-align: middle;\n",
       "    }\n",
       "\n",
       "    .dataframe tbody tr th {\n",
       "        vertical-align: top;\n",
       "    }\n",
       "\n",
       "    .dataframe thead th {\n",
       "        text-align: right;\n",
       "    }\n",
       "</style>\n",
       "<table border=\"1\" class=\"dataframe\">\n",
       "  <thead>\n",
       "    <tr style=\"text-align: right;\">\n",
       "      <th></th>\n",
       "      <th>0</th>\n",
       "      <th>1</th>\n",
       "      <th>2</th>\n",
       "      <th>3</th>\n",
       "      <th>4</th>\n",
       "      <th>5</th>\n",
       "    </tr>\n",
       "  </thead>\n",
       "  <tbody>\n",
       "    <tr>\n",
       "      <th>0</th>\n",
       "      <td>answer</td>\n",
       "      <td>likely</td>\n",
       "      <td>0</td>\n",
       "      <td>how</td>\n",
       "      <td>MO</td>\n",
       "      <td>political</td>\n",
       "    </tr>\n",
       "    <tr>\n",
       "      <th>1</th>\n",
       "      <td>answer</td>\n",
       "      <td>likely</td>\n",
       "      <td>0</td>\n",
       "      <td>how</td>\n",
       "      <td>MO</td>\n",
       "      <td>political</td>\n",
       "    </tr>\n",
       "    <tr>\n",
       "      <th>2</th>\n",
       "      <td>answer</td>\n",
       "      <td>likely</td>\n",
       "      <td>0</td>\n",
       "      <td>how</td>\n",
       "      <td>MO</td>\n",
       "      <td>political</td>\n",
       "    </tr>\n",
       "    <tr>\n",
       "      <th>3</th>\n",
       "      <td>answer</td>\n",
       "      <td>likely</td>\n",
       "      <td>0</td>\n",
       "      <td>how</td>\n",
       "      <td>MO</td>\n",
       "      <td>political</td>\n",
       "    </tr>\n",
       "    <tr>\n",
       "      <th>4</th>\n",
       "      <td>answer</td>\n",
       "      <td>likely</td>\n",
       "      <td>0</td>\n",
       "      <td>how</td>\n",
       "      <td>MO</td>\n",
       "      <td>political</td>\n",
       "    </tr>\n",
       "  </tbody>\n",
       "</table>\n",
       "</div>"
      ],
      "text/plain": [
       "        0       1  2    3   4          5\n",
       "0  answer  likely  0  how  MO  political\n",
       "1  answer  likely  0  how  MO  political\n",
       "2  answer  likely  0  how  MO  political\n",
       "3  answer  likely  0  how  MO  political\n",
       "4  answer  likely  0  how  MO  political"
      ]
     },
     "execution_count": 165,
     "metadata": {},
     "output_type": "execute_result"
    }
   ],
   "source": [
    "new.head()"
   ]
  },
  {
   "cell_type": "code",
   "execution_count": 166,
   "metadata": {},
   "outputs": [],
   "source": [
    "d[\"variable\"] = new[0]\n",
    "d[\"task\"] = new[1]\n",
    "d[\"modal\"] = new[2]\n",
    "d[\"wh\"]=new[3]\n",
    "d[\"answer\"]=new[4]\n",
    "d[\"story\"]=new[5]"
   ]
  },
  {
   "cell_type": "code",
   "execution_count": 167,
   "metadata": {},
   "outputs": [
    {
     "data": {
      "text/html": [
       "<div>\n",
       "<style scoped>\n",
       "    .dataframe tbody tr th:only-of-type {\n",
       "        vertical-align: middle;\n",
       "    }\n",
       "\n",
       "    .dataframe tbody tr th {\n",
       "        vertical-align: top;\n",
       "    }\n",
       "\n",
       "    .dataframe thead th {\n",
       "        text-align: right;\n",
       "    }\n",
       "</style>\n",
       "<table border=\"1\" class=\"dataframe\">\n",
       "  <thead>\n",
       "    <tr style=\"text-align: right;\">\n",
       "      <th></th>\n",
       "      <th>subject</th>\n",
       "      <th>variable</th>\n",
       "      <th>likert</th>\n",
       "      <th>task</th>\n",
       "      <th>modal</th>\n",
       "      <th>wh</th>\n",
       "      <th>answer</th>\n",
       "      <th>story</th>\n",
       "    </tr>\n",
       "  </thead>\n",
       "  <tbody>\n",
       "    <tr>\n",
       "      <th>0</th>\n",
       "      <td>A2VFEDAK5C1E1O</td>\n",
       "      <td>answer</td>\n",
       "      <td>1.0</td>\n",
       "      <td>likely</td>\n",
       "      <td>0</td>\n",
       "      <td>how</td>\n",
       "      <td>MO</td>\n",
       "      <td>political</td>\n",
       "    </tr>\n",
       "    <tr>\n",
       "      <th>1</th>\n",
       "      <td>A29AKJXQ248KNK</td>\n",
       "      <td>answer</td>\n",
       "      <td>2.0</td>\n",
       "      <td>likely</td>\n",
       "      <td>0</td>\n",
       "      <td>how</td>\n",
       "      <td>MO</td>\n",
       "      <td>political</td>\n",
       "    </tr>\n",
       "    <tr>\n",
       "      <th>2</th>\n",
       "      <td>A29TQSAJPLXZU7</td>\n",
       "      <td>answer</td>\n",
       "      <td>3.0</td>\n",
       "      <td>likely</td>\n",
       "      <td>0</td>\n",
       "      <td>how</td>\n",
       "      <td>MO</td>\n",
       "      <td>political</td>\n",
       "    </tr>\n",
       "    <tr>\n",
       "      <th>3</th>\n",
       "      <td>A3QVZ4SZB79D8W</td>\n",
       "      <td>answer</td>\n",
       "      <td>1.0</td>\n",
       "      <td>likely</td>\n",
       "      <td>0</td>\n",
       "      <td>how</td>\n",
       "      <td>MO</td>\n",
       "      <td>political</td>\n",
       "    </tr>\n",
       "    <tr>\n",
       "      <th>4</th>\n",
       "      <td>A17D6BK59S31BM</td>\n",
       "      <td>answer</td>\n",
       "      <td>2.0</td>\n",
       "      <td>likely</td>\n",
       "      <td>0</td>\n",
       "      <td>how</td>\n",
       "      <td>MO</td>\n",
       "      <td>political</td>\n",
       "    </tr>\n",
       "  </tbody>\n",
       "</table>\n",
       "</div>"
      ],
      "text/plain": [
       "          subject variable  likert    task modal   wh answer      story\n",
       "0  A2VFEDAK5C1E1O   answer     1.0  likely     0  how     MO  political\n",
       "1  A29AKJXQ248KNK   answer     2.0  likely     0  how     MO  political\n",
       "2  A29TQSAJPLXZU7   answer     3.0  likely     0  how     MO  political\n",
       "3  A3QVZ4SZB79D8W   answer     1.0  likely     0  how     MO  political\n",
       "4  A17D6BK59S31BM   answer     2.0  likely     0  how     MO  political"
      ]
     },
     "execution_count": 167,
     "metadata": {},
     "output_type": "execute_result"
    }
   ],
   "source": [
    "d = d.rename(columns={'value': 'likert'})"
   ]
  },
  {
   "cell_type": "code",
   "execution_count": 168,
   "metadata": {
    "collapsed": true
   },
   "outputs": [],
   "source": [
    "d['modal'] = d['modal'].replace({'1': 'mod', '0': 'nomod'})"
   ]
  },
  {
   "cell_type": "code",
   "execution_count": 169,
   "metadata": {},
   "outputs": [
    {
     "data": {
      "text/html": [
       "<div>\n",
       "<style scoped>\n",
       "    .dataframe tbody tr th:only-of-type {\n",
       "        vertical-align: middle;\n",
       "    }\n",
       "\n",
       "    .dataframe tbody tr th {\n",
       "        vertical-align: top;\n",
       "    }\n",
       "\n",
       "    .dataframe thead th {\n",
       "        text-align: right;\n",
       "    }\n",
       "</style>\n",
       "<table border=\"1\" class=\"dataframe\">\n",
       "  <thead>\n",
       "    <tr style=\"text-align: right;\">\n",
       "      <th></th>\n",
       "      <th>subject</th>\n",
       "      <th>variable</th>\n",
       "      <th>likert</th>\n",
       "      <th>task</th>\n",
       "      <th>modal</th>\n",
       "      <th>wh</th>\n",
       "      <th>answer</th>\n",
       "      <th>story</th>\n",
       "    </tr>\n",
       "  </thead>\n",
       "  <tbody>\n",
       "    <tr>\n",
       "      <th>0</th>\n",
       "      <td>A2VFEDAK5C1E1O</td>\n",
       "      <td>answer</td>\n",
       "      <td>1.0</td>\n",
       "      <td>likely</td>\n",
       "      <td>nomod</td>\n",
       "      <td>how</td>\n",
       "      <td>MO</td>\n",
       "      <td>political</td>\n",
       "    </tr>\n",
       "    <tr>\n",
       "      <th>1</th>\n",
       "      <td>A29AKJXQ248KNK</td>\n",
       "      <td>answer</td>\n",
       "      <td>2.0</td>\n",
       "      <td>likely</td>\n",
       "      <td>nomod</td>\n",
       "      <td>how</td>\n",
       "      <td>MO</td>\n",
       "      <td>political</td>\n",
       "    </tr>\n",
       "    <tr>\n",
       "      <th>2</th>\n",
       "      <td>A29TQSAJPLXZU7</td>\n",
       "      <td>answer</td>\n",
       "      <td>3.0</td>\n",
       "      <td>likely</td>\n",
       "      <td>nomod</td>\n",
       "      <td>how</td>\n",
       "      <td>MO</td>\n",
       "      <td>political</td>\n",
       "    </tr>\n",
       "    <tr>\n",
       "      <th>3</th>\n",
       "      <td>A3QVZ4SZB79D8W</td>\n",
       "      <td>answer</td>\n",
       "      <td>1.0</td>\n",
       "      <td>likely</td>\n",
       "      <td>nomod</td>\n",
       "      <td>how</td>\n",
       "      <td>MO</td>\n",
       "      <td>political</td>\n",
       "    </tr>\n",
       "    <tr>\n",
       "      <th>4</th>\n",
       "      <td>A17D6BK59S31BM</td>\n",
       "      <td>answer</td>\n",
       "      <td>2.0</td>\n",
       "      <td>likely</td>\n",
       "      <td>nomod</td>\n",
       "      <td>how</td>\n",
       "      <td>MO</td>\n",
       "      <td>political</td>\n",
       "    </tr>\n",
       "  </tbody>\n",
       "</table>\n",
       "</div>"
      ],
      "text/plain": [
       "          subject variable  likert    task  modal   wh answer      story\n",
       "0  A2VFEDAK5C1E1O   answer     1.0  likely  nomod  how     MO  political\n",
       "1  A29AKJXQ248KNK   answer     2.0  likely  nomod  how     MO  political\n",
       "2  A29TQSAJPLXZU7   answer     3.0  likely  nomod  how     MO  political\n",
       "3  A3QVZ4SZB79D8W   answer     1.0  likely  nomod  how     MO  political\n",
       "4  A17D6BK59S31BM   answer     2.0  likely  nomod  how     MO  political"
      ]
     },
     "execution_count": 169,
     "metadata": {},
     "output_type": "execute_result"
    }
   ],
   "source": [
    "d.head()"
   ]
  },
  {
   "cell_type": "code",
   "execution_count": 170,
   "metadata": {
    "collapsed": true
   },
   "outputs": [],
   "source": [
    "d.to_csv(\"answer.csv\",index=False)"
   ]
  },
  {
   "cell_type": "code",
   "execution_count": 51,
   "metadata": {
    "collapsed": true
   },
   "outputs": [],
   "source": []
  },
  {
   "cell_type": "code",
   "execution_count": null,
   "metadata": {
    "collapsed": true
   },
   "outputs": [],
   "source": []
  },
  {
   "cell_type": "code",
   "execution_count": null,
   "metadata": {},
   "outputs": [],
   "source": []
  },
  {
   "cell_type": "code",
   "execution_count": null,
   "metadata": {},
   "outputs": [],
   "source": []
  },
  {
   "cell_type": "code",
   "execution_count": null,
   "metadata": {},
   "outputs": [],
   "source": []
  },
  {
   "cell_type": "code",
   "execution_count": 53,
   "metadata": {
    "collapsed": true
   },
   "outputs": [],
   "source": []
  },
  {
   "cell_type": "code",
   "execution_count": 54,
   "metadata": {
    "collapsed": true
   },
   "outputs": [],
   "source": []
  },
  {
   "cell_type": "code",
   "execution_count": 55,
   "metadata": {
    "collapsed": true
   },
   "outputs": [],
   "source": []
  },
  {
   "cell_type": "code",
   "execution_count": null,
   "metadata": {},
   "outputs": [],
   "source": []
  },
  {
   "cell_type": "code",
   "execution_count": null,
   "metadata": {},
   "outputs": [],
   "source": []
  },
  {
   "cell_type": "code",
   "execution_count": null,
   "metadata": {},
   "outputs": [],
   "source": []
  },
  {
   "cell_type": "code",
   "execution_count": null,
   "metadata": {},
   "outputs": [],
   "source": []
  },
  {
   "cell_type": "code",
   "execution_count": 330,
   "metadata": {},
   "outputs": [
    {
     "data": {
      "text/plain": [
       "count       112\n",
       "unique        2\n",
       "top       False\n",
       "freq        101\n",
       "Name: likert, dtype: object"
      ]
     },
     "execution_count": 330,
     "metadata": {},
     "output_type": "execute_result"
    }
   ],
   "source": [
    "d_mod_where_MO['likert'].isin(['2']).describe()"
   ]
  },
  {
   "cell_type": "code",
   "execution_count": 325,
   "metadata": {},
   "outputs": [
    {
     "data": {
      "text/plain": [
       "count    76.000000\n",
       "mean      3.105263\n",
       "std       1.138173\n",
       "min       0.000000\n",
       "25%       2.000000\n",
       "50%       3.000000\n",
       "75%       4.000000\n",
       "max       5.000000\n",
       "Name: likert, dtype: float64"
      ]
     },
     "execution_count": 325,
     "metadata": {},
     "output_type": "execute_result"
    }
   ],
   "source": [
    "d_nomod_where_MO['likert'].describe()"
   ]
  },
  {
   "cell_type": "code",
   "execution_count": 321,
   "metadata": {},
   "outputs": [
    {
     "data": {
      "text/plain": [
       "4.0"
      ]
     },
     "execution_count": 321,
     "metadata": {},
     "output_type": "execute_result"
    }
   ],
   "source": [
    "d_mod_how['likert'].median()"
   ]
  },
  {
   "cell_type": "markdown",
   "metadata": {},
   "source": [
    "d_mod_how['likert'].median("
   ]
  },
  {
   "cell_type": "code",
   "execution_count": null,
   "metadata": {},
   "outputs": [],
   "source": []
  },
  {
   "cell_type": "code",
   "execution_count": 338,
   "metadata": {},
   "outputs": [
    {
     "data": {
      "text/plain": [
       "<Figure size 576x396 with 0 Axes>"
      ]
     },
     "execution_count": 338,
     "metadata": {},
     "output_type": "execute_result"
    }
   ],
   "source": [
    "plt.figure()"
   ]
  },
  {
   "cell_type": "code",
   "execution_count": 336,
   "metadata": {
    "collapsed": true
   },
   "outputs": [],
   "source": [
    "bp = d_MO.boxplot(by='modal')"
   ]
  },
  {
   "cell_type": "code",
   "execution_count": null,
   "metadata": {},
   "outputs": [],
   "source": []
  },
  {
   "cell_type": "code",
   "execution_count": null,
   "metadata": {
    "collapsed": true
   },
   "outputs": [],
   "source": []
  }
 ],
 "metadata": {
  "kernelspec": {
   "display_name": "Python 3",
   "language": "python",
   "name": "python3"
  },
  "language_info": {
   "codemirror_mode": {
    "name": "ipython",
    "version": 3
   },
   "file_extension": ".py",
   "mimetype": "text/x-python",
   "name": "python",
   "nbconvert_exporter": "python",
   "pygments_lexer": "ipython3",
   "version": "3.6.8"
  }
 },
 "nbformat": 4,
 "nbformat_minor": 2
}
